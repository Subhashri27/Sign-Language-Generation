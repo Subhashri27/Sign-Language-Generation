{
  "cells": [
    {
      "metadata": {
        "_uuid": "8f2839f25d086af736a60e9eeb907d3b93b6e0e5",
        "_cell_guid": "b1076dfc-b9ad-4769-8c92-a6c4dae69d19",
        "trusted": true,
        "id": "5dpFujjBfVe3"
      },
      "cell_type": "code",
      "source": [
        "# This Python 3 environment comes with many helpful analytics libraries installed\n",
        "# It is defined by the kaggle/python Docker image: https://github.com/kaggle/docker-python\n",
        "# For example, here's several helpful packages to load\n",
        "\n",
        "import numpy as np # linear algebra\n",
        "import pandas as pd # data processing, CSV file I/O (e.g. pd.read_csv)\n",
        "\n",
        "# Input data files are available in the read-only \"../input/\" directory\n",
        "# For example, running this (by clicking run or pressing Shift+Enter) will list all files under the input directory\n",
        "\n",
        "import os\n",
        "for dirname, _, filenames in os.walk('/kaggle/input'):\n",
        "    for filename in filenames:\n",
        "        print(os.path.join(dirname, filename))\n",
        "\n",
        "# You can write up to 5GB to the current directory (/kaggle/working/) that gets preserved as output when you create a version using \"Save & Run All\" \n",
        "# You can also write temporary files to /kaggle/temp/, but they won't be saved outside of the current session"
      ],
      "execution_count": null,
      "outputs": []
    },
    {
      "metadata": {
        "_uuid": "d629ff2d2480ee46fbb7e2d37f6b5fab8052498a",
        "_cell_guid": "79c7e3d0-c299-4dcb-8224-4455121ee9b0",
        "trusted": true,
        "id": "3N-0yg0zfVe6"
      },
      "cell_type": "code",
      "source": [
        "import tensorflow as tf\n",
        "from keras.preprocessing.image import ImageDataGenerator"
      ],
      "execution_count": null,
      "outputs": []
    },
    {
      "cell_type": "markdown",
      "source": [
        "## DATA READING"
      ],
      "metadata": {
        "id": "uOzPL2OAnyZM"
      }
    },
    {
      "metadata": {
        "trusted": true,
        "id": "Yiwj0xM2fVe7",
        "outputId": "bfd68c24-ba39-42ef-8445-d18cba2111fd"
      },
      "cell_type": "code",
      "source": [
        "train_datagen = ImageDataGenerator(rescale = 1./255,\n",
        "                                   shear_range = 0.2,\n",
        "                                   zoom_range = 0.2,\n",
        "                                   rotation_range=40,\n",
        "                                   width_shift_range=0.2,\n",
        "                                   horizontal_flip = True)\n",
        "training_set = train_datagen.flow_from_directory('../input/american-sign-language-recognition/training_set',\n",
        "                                                 target_size = (100,100),\n",
        "                                                 batch_size = 32)"
      ],
      "execution_count": null,
      "outputs": [
        {
          "output_type": "stream",
          "text": "Found 60352 images belonging to 40 classes.\n",
          "name": "stdout"
        }
      ]
    },
    {
      "metadata": {
        "trusted": true,
        "id": "tndWwRPffVe8",
        "outputId": "6e5ab61c-1426-44e6-819d-57b1a4ebdd23"
      },
      "cell_type": "code",
      "source": [
        "test_datagen = ImageDataGenerator(rescale = 1./255)\n",
        "test_set = test_datagen.flow_from_directory('../input/american-sign-language-recognition/test_set',\n",
        "                                            target_size = (100,100),\n",
        "                                            batch_size = 32)"
      ],
      "execution_count": null,
      "outputs": [
        {
          "output_type": "stream",
          "text": "Found 8000 images belonging to 40 classes.\n",
          "name": "stdout"
        }
      ]
    },
    {
      "cell_type": "markdown",
      "source": [
        "## Building the model - CNN"
      ],
      "metadata": {
        "id": "6NWJ9TXnn21Z"
      }
    },
    {
      "cell_type": "markdown",
      "source": [
        "A convolutional neural network (CNN or ConvNet), is a network architecture for deep learning which learns directly from data, eliminating the need for manual feature extraction. CNNs are particularly useful for finding patterns in images to recognize objects, faces, and scenes."
      ],
      "metadata": {
        "id": "Rx7g8C4Tn8Iv"
      }
    },
    {
      "metadata": {
        "trusted": true,
        "id": "LIwzCyhnfVe8"
      },
      "cell_type": "code",
      "source": [
        "model = tf.keras.models.Sequential()\n",
        "\n",
        "model.add(tf.keras.layers.Conv2D(filters = 32, kernel_size= (3,3), input_shape=(100,100,3)))\n",
        "model.add(tf.keras.layers.Conv2D(filters=64, kernel_size= (3,3) , activation='relu'))\n",
        "\n",
        "model.add(tf.keras.layers.MaxPool2D(pool_size=2, strides=2))\n",
        "model.add(tf.keras.layers.Dropout(0.25))\n",
        "model.add(tf.keras.layers.Flatten())\n",
        "\n",
        "model.add(tf.keras.layers.Dense(256, activation = 'relu'))\n",
        "model.add(tf.keras.layers.Dropout(0.5))\n",
        "model.add(tf.keras.layers.Dense(40, activation = 'softmax'))\n",
        "\n",
        "model.compile(loss = 'categorical_crossentropy', optimizer = 'adam', metrics = ['accuracy'])\n"
      ],
      "execution_count": null,
      "outputs": []
    },
    {
      "metadata": {
        "trusted": true,
        "id": "iKlfZ0AffVe9",
        "outputId": "5bc940f5-ae54-430a-a9f1-a49a375ffdca"
      },
      "cell_type": "code",
      "source": [
        "model.summary()"
      ],
      "execution_count": null,
      "outputs": [
        {
          "output_type": "stream",
          "text": "Model: \"sequential_1\"\n_________________________________________________________________\nLayer (type)                 Output Shape              Param #   \n=================================================================\nconv2d_2 (Conv2D)            (None, 98, 98, 32)        896       \n_________________________________________________________________\nconv2d_3 (Conv2D)            (None, 96, 96, 64)        18496     \n_________________________________________________________________\nmax_pooling2d_1 (MaxPooling2 (None, 48, 48, 64)        0         \n_________________________________________________________________\ndropout_2 (Dropout)          (None, 48, 48, 64)        0         \n_________________________________________________________________\nflatten_1 (Flatten)          (None, 147456)            0         \n_________________________________________________________________\ndense_2 (Dense)              (None, 256)               37748992  \n_________________________________________________________________\ndropout_3 (Dropout)          (None, 256)               0         \n_________________________________________________________________\ndense_3 (Dense)              (None, 40)                10280     \n=================================================================\nTotal params: 37,778,664\nTrainable params: 37,778,664\nNon-trainable params: 0\n_________________________________________________________________\n",
          "name": "stdout"
        }
      ]
    },
    {
      "cell_type": "markdown",
      "source": [
        "### The History of the model run"
      ],
      "metadata": {
        "id": "Kmb-ubDsoGRq"
      }
    },
    {
      "metadata": {
        "trusted": true,
        "id": "BqsPlmi_fVe9",
        "outputId": "a347efd9-0248-40d7-de37-3cdd90993eb7"
      },
      "cell_type": "code",
      "source": [
        "hist = model.fit(training_set, batch_size = 128, epochs = 50, verbose = 1, validation_data=test_set)"
      ],
      "execution_count": null,
      "outputs": [
        {
          "output_type": "stream",
          "text": "Epoch 1/50\n1886/1886 [==============================] - 290s 154ms/step - loss: 1.5656 - accuracy: 0.5359 - val_loss: 0.2154 - val_accuracy: 0.9495\nEpoch 2/50\n1886/1886 [==============================] - 222s 118ms/step - loss: 0.7774 - accuracy: 0.7467 - val_loss: 0.1879 - val_accuracy: 0.9434\nEpoch 3/50\n1886/1886 [==============================] - 218s 116ms/step - loss: 0.5957 - accuracy: 0.8040 - val_loss: 0.1822 - val_accuracy: 0.9425\nEpoch 4/50\n1886/1886 [==============================] - 211s 112ms/step - loss: 0.5115 - accuracy: 0.8320 - val_loss: 0.1532 - val_accuracy: 0.9449\nEpoch 5/50\n1886/1886 [==============================] - 212s 113ms/step - loss: 0.4498 - accuracy: 0.8520 - val_loss: 0.2381 - val_accuracy: 0.9417\nEpoch 6/50\n1886/1886 [==============================] - 213s 113ms/step - loss: 0.4144 - accuracy: 0.8652 - val_loss: 0.1618 - val_accuracy: 0.9545\nEpoch 7/50\n1886/1886 [==============================] - 210s 111ms/step - loss: 0.3869 - accuracy: 0.8727 - val_loss: 0.0525 - val_accuracy: 0.9806\nEpoch 8/50\n1886/1886 [==============================] - 208s 110ms/step - loss: 0.3700 - accuracy: 0.8783 - val_loss: 0.1274 - val_accuracy: 0.9614\nEpoch 9/50\n1886/1886 [==============================] - 205s 109ms/step - loss: 0.3419 - accuracy: 0.8880 - val_loss: 0.0635 - val_accuracy: 0.9759\nEpoch 10/50\n1886/1886 [==============================] - 212s 112ms/step - loss: 0.3269 - accuracy: 0.8937 - val_loss: 0.0899 - val_accuracy: 0.9694\nEpoch 11/50\n1886/1886 [==============================] - 221s 117ms/step - loss: 0.3096 - accuracy: 0.9007 - val_loss: 0.0887 - val_accuracy: 0.9679\nEpoch 12/50\n1886/1886 [==============================] - 225s 119ms/step - loss: 0.3006 - accuracy: 0.9022 - val_loss: 0.0726 - val_accuracy: 0.9724\nEpoch 13/50\n1886/1886 [==============================] - 226s 120ms/step - loss: 0.2859 - accuracy: 0.9076 - val_loss: 0.0637 - val_accuracy: 0.9797\nEpoch 14/50\n1886/1886 [==============================] - 219s 116ms/step - loss: 0.2968 - accuracy: 0.9041 - val_loss: 0.1044 - val_accuracy: 0.9665\nEpoch 15/50\n1886/1886 [==============================] - 226s 120ms/step - loss: 0.2632 - accuracy: 0.9155 - val_loss: 0.0488 - val_accuracy: 0.9855\nEpoch 16/50\n1886/1886 [==============================] - 217s 115ms/step - loss: 0.3666 - accuracy: 0.8923 - val_loss: 0.0336 - val_accuracy: 0.9865\nEpoch 17/50\n1886/1886 [==============================] - 222s 117ms/step - loss: 0.2823 - accuracy: 0.9114 - val_loss: 0.0731 - val_accuracy: 0.9808\nEpoch 18/50\n1886/1886 [==============================] - 224s 119ms/step - loss: 0.2518 - accuracy: 0.9189 - val_loss: 0.0720 - val_accuracy: 0.9835\nEpoch 19/50\n1886/1886 [==============================] - 223s 118ms/step - loss: 0.2432 - accuracy: 0.9223 - val_loss: 0.0812 - val_accuracy: 0.9799\nEpoch 20/50\n1886/1886 [==============================] - 223s 118ms/step - loss: 0.2445 - accuracy: 0.9223 - val_loss: 0.1505 - val_accuracy: 0.9580\nEpoch 21/50\n1886/1886 [==============================] - 225s 119ms/step - loss: 0.2405 - accuracy: 0.9228 - val_loss: 0.0790 - val_accuracy: 0.9737\nEpoch 22/50\n1886/1886 [==============================] - 230s 122ms/step - loss: 0.2340 - accuracy: 0.9265 - val_loss: 0.0463 - val_accuracy: 0.9858\nEpoch 23/50\n1886/1886 [==============================] - 230s 122ms/step - loss: 0.2318 - accuracy: 0.9268 - val_loss: 0.1440 - val_accuracy: 0.9595\nEpoch 24/50\n1886/1886 [==============================] - 231s 123ms/step - loss: 0.2322 - accuracy: 0.9271 - val_loss: 0.5423 - val_accuracy: 0.9140\nEpoch 25/50\n1886/1886 [==============================] - 232s 123ms/step - loss: 0.2256 - accuracy: 0.9277 - val_loss: 0.1970 - val_accuracy: 0.9485\nEpoch 26/50\n1886/1886 [==============================] - 229s 121ms/step - loss: 0.2208 - accuracy: 0.9303 - val_loss: 0.2407 - val_accuracy: 0.9467\nEpoch 27/50\n1886/1886 [==============================] - 228s 121ms/step - loss: 0.2211 - accuracy: 0.9301 - val_loss: 0.0976 - val_accuracy: 0.9715\nEpoch 28/50\n1886/1886 [==============================] - 226s 120ms/step - loss: 0.2166 - accuracy: 0.9311 - val_loss: 0.0752 - val_accuracy: 0.9770\nEpoch 29/50\n1886/1886 [==============================] - 228s 121ms/step - loss: 0.2201 - accuracy: 0.9315 - val_loss: 0.0969 - val_accuracy: 0.9732\nEpoch 30/50\n1886/1886 [==============================] - 233s 124ms/step - loss: 0.2161 - accuracy: 0.9327 - val_loss: 0.1622 - val_accuracy: 0.9635\nEpoch 31/50\n1886/1886 [==============================] - 234s 124ms/step - loss: 0.2102 - accuracy: 0.9347 - val_loss: 0.0716 - val_accuracy: 0.9816\nEpoch 32/50\n1886/1886 [==============================] - 233s 124ms/step - loss: 0.2059 - accuracy: 0.9355 - val_loss: 0.2274 - val_accuracy: 0.9490\nEpoch 33/50\n1886/1886 [==============================] - 231s 122ms/step - loss: 0.2090 - accuracy: 0.9359 - val_loss: 0.0561 - val_accuracy: 0.9881\nEpoch 34/50\n1886/1886 [==============================] - 229s 121ms/step - loss: 0.2080 - accuracy: 0.9362 - val_loss: 0.1735 - val_accuracy: 0.9628\nEpoch 35/50\n1886/1886 [==============================] - 230s 122ms/step - loss: 0.2021 - accuracy: 0.9369 - val_loss: 0.0422 - val_accuracy: 0.9894\nEpoch 36/50\n1886/1886 [==============================] - 227s 121ms/step - loss: 0.1966 - accuracy: 0.9389 - val_loss: 0.0218 - val_accuracy: 0.9935\nEpoch 37/50\n1886/1886 [==============================] - 229s 122ms/step - loss: 0.2052 - accuracy: 0.9368 - val_loss: 0.0923 - val_accuracy: 0.9785\nEpoch 38/50\n1886/1886 [==============================] - 229s 121ms/step - loss: 0.1931 - accuracy: 0.9406 - val_loss: 0.0507 - val_accuracy: 0.9841\nEpoch 39/50\n1886/1886 [==============================] - 227s 120ms/step - loss: 0.2727 - accuracy: 0.9177 - val_loss: 0.0766 - val_accuracy: 0.9852\nEpoch 40/50\n1886/1886 [==============================] - 229s 121ms/step - loss: 0.2299 - accuracy: 0.9310 - val_loss: 0.2838 - val_accuracy: 0.9479\nEpoch 41/50\n1886/1886 [==============================] - 228s 121ms/step - loss: 0.1989 - accuracy: 0.9390 - val_loss: 0.1469 - val_accuracy: 0.9636\nEpoch 42/50\n1886/1886 [==============================] - 229s 121ms/step - loss: 0.1934 - accuracy: 0.9408 - val_loss: 0.1396 - val_accuracy: 0.9697\nEpoch 43/50\n1886/1886 [==============================] - 228s 121ms/step - loss: 0.2019 - accuracy: 0.9392 - val_loss: 0.0594 - val_accuracy: 0.9827\nEpoch 44/50\n1886/1886 [==============================] - 217s 115ms/step - loss: 0.1925 - accuracy: 0.9399 - val_loss: 0.0689 - val_accuracy: 0.9799\nEpoch 45/50\n1886/1886 [==============================] - 208s 110ms/step - loss: 0.1935 - accuracy: 0.9415 - val_loss: 0.0531 - val_accuracy: 0.9849\nEpoch 46/50\n1886/1886 [==============================] - 206s 109ms/step - loss: 0.2131 - accuracy: 0.9348 - val_loss: 0.0597 - val_accuracy: 0.9851\nEpoch 47/50\n1886/1886 [==============================] - 207s 110ms/step - loss: 0.1901 - accuracy: 0.9430 - val_loss: 0.2349 - val_accuracy: 0.9579\nEpoch 48/50\n1886/1886 [==============================] - 206s 109ms/step - loss: 0.1901 - accuracy: 0.9419 - val_loss: 0.0633 - val_accuracy: 0.9871\nEpoch 49/50\n1886/1886 [==============================] - 202s 107ms/step - loss: 0.1883 - accuracy: 0.9429 - val_loss: 0.1646 - val_accuracy: 0.9660\nEpoch 50/50\n1886/1886 [==============================] - 199s 105ms/step - loss: 0.1955 - accuracy: 0.9420 - val_loss: 0.0367 - val_accuracy: 0.9906\n",
          "name": "stdout"
        }
      ]
    },
    {
      "cell_type": "markdown",
      "source": [
        "## CNN accuracy - PLOT"
      ],
      "metadata": {
        "id": "meEnKd42oNWo"
      }
    },
    {
      "metadata": {
        "trusted": true,
        "id": "jDplqyRFfVe9",
        "outputId": "b7d38ce2-d493-4cbd-dadc-30a295adc05f"
      },
      "cell_type": "code",
      "source": [
        "import matplotlib.pyplot as plt\n",
        "\n",
        "plt.plot(hist.history['accuracy'],label='train')\n",
        "plt.plot(hist.history['val_accuracy'],label='test')\n",
        "plt.title('Model accuracay')\n",
        "plt.xlabel('Epoch number')\n",
        "plt.ylabel('Accuracy')\n",
        "plt.legend(loc='lower right')"
      ],
      "execution_count": null,
      "outputs": [
        {
          "output_type": "execute_result",
          "execution_count": 17,
          "data": {
            "text/plain": "<matplotlib.legend.Legend at 0x7f6aebd325d0>"
          },
          "metadata": {}
        },
        {
          "output_type": "display_data",
          "data": {
            "text/plain": "<Figure size 432x288 with 1 Axes>",
            "image/png": "[encoded data removed]"
          },
          "metadata": {
            "needs_background": "light"
          }
        }
      ]
    }
  ],
  "metadata": {
    "kernelspec": {
      "name": "python3",
      "display_name": "Python 3",
      "language": "python"
    },
    "language_info": {
      "name": "python",
      "version": "3.7.6",
      "mimetype": "text/x-python",
      "codemirror_mode": {
        "name": "ipython",
        "version": 3
      },
      "pygments_lexer": "ipython3",
      "nbconvert_exporter": "python",
      "file_extension": ".py"
    },
    "colab": {
      "provenance": [],
      "collapsed_sections": []
    }
  },
  "nbformat": 4,
  "nbformat_minor": 0
}